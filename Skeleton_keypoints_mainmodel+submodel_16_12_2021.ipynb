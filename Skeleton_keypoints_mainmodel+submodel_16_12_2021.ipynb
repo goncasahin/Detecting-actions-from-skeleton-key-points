{
  "nbformat": 4,
  "nbformat_minor": 5,
  "metadata": {
    "colab": {
      "name": "Skeleton_keypoints_mainmodel+submodel_16.12.2021.ipynb",
      "provenance": [],
      "collapsed_sections": []
    },
    "kernelspec": {
      "display_name": "Python 3.8 (tensorflow)",
      "language": "python",
      "name": "tensorflow"
    },
    "language_info": {
      "codemirror_mode": {
        "name": "ipython",
        "version": 3
      },
      "file_extension": ".py",
      "mimetype": "text/x-python",
      "name": "python",
      "nbconvert_exporter": "python",
      "pygments_lexer": "ipython3",
      "version": "3.8.10"
    }
  },
  "cells": [
    {
      "cell_type": "code",
      "metadata": {
        "id": "21572738-0017-42bb-a195-01fa8935a5b9"
      },
      "source": [
        "import math\n",
        "import numpy as np\n",
        "import pandas as pd\n",
        "import glob\n",
        "import os\n",
        "import pickle\n",
        "\n",
        "%matplotlib inline\n",
        "import matplotlib.pyplot as plt\n",
        "\n",
        "import tensorflow as tf\n",
        "import keras\n",
        "\n",
        "from keras.regularizers import *\n",
        "from tensorflow.keras.optimizers import Adagrad, Adam, Adamax, Nadam, Optimizer, RMSprop, SGD, schedules \n",
        "from keras.models import Sequential, Model\n",
        "from keras.layers import ConvLSTM2D, Conv3D, Conv2D, Conv1D, LSTM, Dense, TimeDistributed, Input, Dropout, Activation, Flatten, BatchNormalization, Masking\n",
        "from keras.callbacks import ModelCheckpoint, LearningRateScheduler, TensorBoard, EarlyStopping\n",
        "from tensorflow.keras.utils import to_categorical\n",
        "\n",
        "from sklearn.model_selection import StratifiedKFold, KFold, train_test_split\n",
        "from sklearn.metrics import jaccard_score, confusion_matrix, ConfusionMatrixDisplay, classification_report\n",
        "from sklearn.utils import class_weight\n",
        "\n",
        "from enum import Enum \n",
        "import random as rn\n"
      ],
      "id": "21572738-0017-42bb-a195-01fa8935a5b9",
      "execution_count": null,
      "outputs": []
    },
    {
      "cell_type": "code",
      "metadata": {
        "id": "a30f4f48-c4ce-454a-8ff6-f4accbaecda0",
        "colab": {
          "base_uri": "https://localhost:8080/"
        },
        "outputId": "84819df8-28a5-4022-970b-dbecee6812d8"
      },
      "source": [
        "from google.colab import drive\n",
        "drive.mount('/content/drive')"
      ],
      "id": "a30f4f48-c4ce-454a-8ff6-f4accbaecda0",
      "execution_count": null,
      "outputs": [
        {
          "output_type": "stream",
          "name": "stdout",
          "text": [
            "Mounted at /content/drive\n"
          ]
        }
      ]
    },
    {
      "cell_type": "code",
      "metadata": {
        "id": "u_IKMHvBNx-6"
      },
      "source": [
        "X_train = np.load('/content/drive/MyDrive/google_colab_skeleton/submodel/X_train.npy') \n",
        "X_val = np.load('/content/drive/MyDrive/google_colab_skeleton/submodel/X_val.npy') \n",
        "y_train = np.load('/content/drive/MyDrive/google_colab_skeleton/submodel/y_train.npy') \n",
        "y_val = np.load('/content/drive/MyDrive/google_colab_skeleton/submodel/y_val.npy') "
      ],
      "id": "u_IKMHvBNx-6",
      "execution_count": null,
      "outputs": []
    },
    {
      "cell_type": "code",
      "metadata": {
        "id": "898de9c5-8ad6-427b-8117-b101e2658ccc",
        "colab": {
          "base_uri": "https://localhost:8080/"
        },
        "outputId": "4984ec66-dfe6-4be4-ab42-e2ef90a2312b"
      },
      "source": [
        "main_model_path = '/content/drive/MyDrive/google_colab_skeleton/submodel/bestmodel1.ckpt'\n",
        "main_model = tf.keras.models.load_model(main_model_path)\n",
        "\n",
        "y_pred_main = main_model.predict(X_test)\n",
        "y_pred_main_argmax = np.argmax(y_pred_main, axis = 1)\n",
        "y_test_main_argmax = np.argmax(np.array(y_test), axis = 1)\n",
        "print(classification_report(y_test_main_argmax, y_pred_main_argmax))"
      ],
      "id": "898de9c5-8ad6-427b-8117-b101e2658ccc",
      "execution_count": null,
      "outputs": [
        {
          "output_type": "stream",
          "name": "stdout",
          "text": [
            "              precision    recall  f1-score   support\n",
            "\n",
            "           0       0.61      0.94      0.74        18\n",
            "           1       1.00      0.38      0.55        16\n",
            "           2       1.00      1.00      1.00        25\n",
            "           3       0.96      1.00      0.98        26\n",
            "           4       1.00      0.96      0.98        23\n",
            "\n",
            "    accuracy                           0.89       108\n",
            "   macro avg       0.91      0.86      0.85       108\n",
            "weighted avg       0.93      0.89      0.88       108\n",
            "\n"
          ]
        }
      ]
    },
    {
      "cell_type": "code",
      "metadata": {
        "id": "NzY4DUZqHe5s",
        "colab": {
          "base_uri": "https://localhost:8080/",
          "height": 297
        },
        "outputId": "38e5f5b0-0164-43c2-a709-4cb7720b5e94"
      },
      "source": [
        "cm_main = confusion_matrix(y_test_main_argmax, y_pred_main_argmax)\n",
        "disp_main = ConfusionMatrixDisplay(confusion_matrix = cm_main, display_labels = ['pick_up', 'put_back', 'raise_hand', 'standing', 'walking'])\n",
        "disp_main.plot() "
      ],
      "id": "NzY4DUZqHe5s",
      "execution_count": null,
      "outputs": [
        {
          "output_type": "execute_result",
          "data": {
            "text/plain": [
              "<sklearn.metrics._plot.confusion_matrix.ConfusionMatrixDisplay at 0x7faf8d03cb50>"
            ]
          },
          "metadata": {},
          "execution_count": 6
        },
        {
          "output_type": "display_data",
          "data": {
            "image/png": "[encoded data removed]",
            "text/plain": [
              "<Figure size 432x288 with 2 Axes>"
            ]
          },
          "metadata": {
            "needs_background": "light"
          }
        }
      ]
    },
    {
      "cell_type": "code",
      "metadata": {
        "id": "Nm3LUtDo65LA"
      },
      "source": [
        "sub_index = []\n",
        "for index, prediction in enumerate(y_pred_main_argmax):\n",
        "  if prediction == 0 or prediction == 1:\n",
        "    sub_index.append(index)"
      ],
      "id": "Nm3LUtDo65LA",
      "execution_count": null,
      "outputs": []
    },
    {
      "cell_type": "code",
      "metadata": {
        "id": "cKu1EbIi65Nz"
      },
      "source": [
        "X_test_sub = []\n",
        "for index in sub_index:\n",
        "  X_test_sub.append(X_test[index,:,:,:,:])\n",
        "\n",
        "X_test_sub = np.array(X_test_sub)"
      ],
      "id": "cKu1EbIi65Nz",
      "execution_count": null,
      "outputs": []
    },
    {
      "cell_type": "code",
      "metadata": {
        "id": "Dr3LdhJ2YaEe"
      },
      "source": [
        "padded_X_test_sub = X_test_sub[:,:,:,:,0:4].reshape(34, 289, 18, 4)\n",
        "featured_X_test_sub = X_test_sub[:,:,:,:,4:8]"
      ],
      "id": "Dr3LdhJ2YaEe",
      "execution_count": null,
      "outputs": []
    },
    {
      "cell_type": "code",
      "metadata": {
        "id": "piLy2_TIpYOM"
      },
      "source": [
        "def angle_features(X):\n",
        "  F_ANG = []\n",
        "  for s in range(len(X)):\n",
        "    sample = X[s,:,:,:,]\n",
        "    F_ANG_sample = []\n",
        "\n",
        "    \n",
        "    for t in range(len(sample)):\n",
        "      frame = sample[t,:,:]\n",
        "\n",
        "      # Let- ϴ is the angle AOB: A, O, B are keypoints; A = (ax, ay), B = (bx, by), and O = (ox, oy)\n",
        "      # ϴ = tan^(-1) ( ((ax-ox)*(by-oy)+(ay-oy)*(bx-ox)) / ((ax-ox)*(bx-ox)-(ay-oy)*(by-oy)) )\n",
        "      # for ϴ1-----keypoints: 9,3,4\n",
        "      # for ϴ2-----keypoints: 3,4,5\n",
        "      # for ϴ3-----keypoints: 6,7,8\n",
        "      # for ϴ4-----keypoints: 12,6,7\n",
        "      # for ϴ5-----keypoints: 12,9,10 \n",
        "      # for ϴ6-----keypoints: 9,12,13\n",
        "      # for ϴ7-----keypoints: 9,10,11\n",
        "      # for ϴ8-----keypoints: 12,13,14\n",
        "    \n",
        "      keypoints = [[9,3,4], [3,4,5], [6,7,8], [12,6,7], [12,9,10], [9,12,13], [9,10,11], [12,13,14]]\n",
        "      F_ANG_frame = []\n",
        "        \n",
        "      for k in keypoints:\n",
        "        F_angles = []\n",
        "        d = ((frame[k[0],1]-frame[k[1],1])*(frame[k[2],1]-frame[k[1],1]) -\n",
        "                                    (frame[k[0],2]-frame[k[1],2])*(frame[k[2],2]-frame[k[1],2]))\n",
        "        \n",
        "        ϴ = math.degrees(math.atan( \n",
        "            ((frame[k[0],1]-frame[k[1],1])*(frame[k[2],2]-frame[k[1],2])        \n",
        "             +(frame[k[0],2]-frame[k[1],2])*(frame[k[2],1]-frame[k[1],1])\n",
        "                                   ) \n",
        "                                   / (d + 0.0000001) ))\n",
        "        ϴ = ϴ / 180\n",
        "        F_angles.append(ϴ)\n",
        "\n",
        "        F_ANG_frame.append(F_angles)      \n",
        "      F_ANG_sample.append(F_ANG_frame)\n",
        "    F_ANG.append(F_ANG_sample)\n",
        "  return np.array(F_ANG)\n",
        "\n",
        "    "
      ],
      "id": "piLy2_TIpYOM",
      "execution_count": null,
      "outputs": []
    },
    {
      "cell_type": "code",
      "metadata": {
        "id": "8jQvKU1xYaZi"
      },
      "source": [
        "featured_X_test_sub = featured_X_test_sub.reshape(34, 289, 72)\n",
        "F_ANG_test_sub = angle_features(padded_X_test_sub).reshape(34, 289, 8)\n",
        "X_test_sub = np.concatenate((F_ANG_test_sub, featured_X_test_sub), axis = 2)"
      ],
      "id": "8jQvKU1xYaZi",
      "execution_count": null,
      "outputs": []
    },
    {
      "cell_type": "code",
      "metadata": {
        "id": "fqUKb7f865T7"
      },
      "source": [
        "sub_model_path = '/content/drive/MyDrive/google_colab_skeleton/submodel/80f_lstm_filters400_dropout0.9_densedrop0.9_8ch_lr_sch/bestmodel2nd'\n",
        "sub_model = tf.keras.models.load_model(sub_model_path)"
      ],
      "id": "fqUKb7f865T7",
      "execution_count": null,
      "outputs": []
    },
    {
      "cell_type": "code",
      "metadata": {
        "id": "d704e4a5-903c-4799-be36-f0d3229595dc"
      },
      "source": [
        "y_pred_sub = sub_model.predict(X_test_sub)\n",
        "y_pred_sub_argmax = np.argmax(y_pred_sub, axis = 1)"
      ],
      "id": "d704e4a5-903c-4799-be36-f0d3229595dc",
      "execution_count": null,
      "outputs": []
    },
    {
      "cell_type": "code",
      "metadata": {
        "id": "53ca9587-d6ca-4a89-a7db-07a0c9c0b5c3"
      },
      "source": [
        "y_pred_combined_argmax = y_pred_main_argmax"
      ],
      "id": "53ca9587-d6ca-4a89-a7db-07a0c9c0b5c3",
      "execution_count": null,
      "outputs": []
    },
    {
      "cell_type": "code",
      "metadata": {
        "id": "LBHJAS8zULQd"
      },
      "source": [
        "for index, sub in enumerate(sub_index):\n",
        "  y_pred_combined_argmax[sub] = y_pred_sub_argmax[index]\n"
      ],
      "id": "LBHJAS8zULQd",
      "execution_count": null,
      "outputs": []
    },
    {
      "cell_type": "code",
      "metadata": {
        "colab": {
          "base_uri": "https://localhost:8080/"
        },
        "id": "kE6COYSxU_HJ",
        "outputId": "0deaed71-8a63-4ce1-e8ac-59d6d8c3b449"
      },
      "source": [
        "print(classification_report(y_test_main_argmax, y_pred_combined_argmax))"
      ],
      "id": "kE6COYSxU_HJ",
      "execution_count": null,
      "outputs": [
        {
          "output_type": "stream",
          "name": "stdout",
          "text": [
            "              precision    recall  f1-score   support\n",
            "\n",
            "           0       0.64      0.89      0.74        18\n",
            "           1       0.89      0.50      0.64        16\n",
            "           2       1.00      1.00      1.00        25\n",
            "           3       0.96      1.00      0.98        26\n",
            "           4       1.00      0.96      0.98        23\n",
            "\n",
            "    accuracy                           0.90       108\n",
            "   macro avg       0.90      0.87      0.87       108\n",
            "weighted avg       0.91      0.90      0.89       108\n",
            "\n"
          ]
        }
      ]
    },
    {
      "cell_type": "code",
      "metadata": {
        "colab": {
          "base_uri": "https://localhost:8080/",
          "height": 297
        },
        "id": "jWDODeV5VHX8",
        "outputId": "a857a9e0-a280-470e-863b-ec775921d6fd"
      },
      "source": [
        "cm_combined = confusion_matrix(y_test_main_argmax, y_pred_combined_argmax)\n",
        "disp_combined = ConfusionMatrixDisplay(confusion_matrix = cm_combined, display_labels = ['pick_up', 'put_back', 'raise_hand', 'standing', 'walking'])\n",
        "disp_combined.plot()"
      ],
      "id": "jWDODeV5VHX8",
      "execution_count": null,
      "outputs": [
        {
          "output_type": "execute_result",
          "data": {
            "text/plain": [
              "<sklearn.metrics._plot.confusion_matrix.ConfusionMatrixDisplay at 0x7faf8cc89a10>"
            ]
          },
          "metadata": {},
          "execution_count": 17
        },
        {
          "output_type": "display_data",
          "data": {
            "image/png": "[encoded data removed]",
            "text/plain": [
              "<Figure size 432x288 with 2 Axes>"
            ]
          },
          "metadata": {
            "needs_background": "light"
          }
        }
      ]
    },
    {
      "cell_type": "code",
      "metadata": {
        "id": "9QlDfkcfNjhH"
      },
      "source": [
        ""
      ],
      "id": "9QlDfkcfNjhH",
      "execution_count": null,
      "outputs": []
    },
    {
      "cell_type": "code",
      "metadata": {
        "id": "dLWVJtCLNslL"
      },
      "source": [
        ""
      ],
      "id": "dLWVJtCLNslL",
      "execution_count": null,
      "outputs": []
    },
    {
      "cell_type": "code",
      "metadata": {
        "id": "p6UwAns6Nsoc"
      },
      "source": [
        ""
      ],
      "id": "p6UwAns6Nsoc",
      "execution_count": null,
      "outputs": []
    },
    {
      "cell_type": "code",
      "metadata": {
        "id": "8SX9P9wSNjuc"
      },
      "source": [
        ""
      ],
      "id": "8SX9P9wSNjuc",
      "execution_count": null,
      "outputs": []
    },
    {
      "cell_type": "code",
      "metadata": {
        "id": "2FR2hx0YVVy_"
      },
      "source": [
        ""
      ],
      "id": "2FR2hx0YVVy_",
      "execution_count": null,
      "outputs": []
    }
  ]
}